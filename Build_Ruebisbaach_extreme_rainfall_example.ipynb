{
 "cells": [
  {
   "cell_type": "code",
   "execution_count": null,
   "metadata": {},
   "outputs": [],
   "source": []
  },
  {
   "cell_type": "code",
   "execution_count": null,
   "metadata": {},
   "outputs": [],
   "source": []
  },
  {
   "cell_type": "markdown",
   "metadata": {},
   "source": [
    "Adapted from: Andres Diaz and Philip Ward\n",
    "Coded into Python by Eric Mortensen and Anaïs Couasnon\n",
    "Date: 2020\n",
    "\n",
    "DESCRIPTION:\n",
    "This script prepares the precipitation data, aggregating the values in\n",
    "different rainfall durations.\n",
    "\n",
    "The homework consists of constructing empirical and analytical IDF curves from the \n",
    "Ruebisbaach precipitation data."
   ]
  }
 ],
 "metadata": {
  "kernelspec": {
   "display_name": "Python 3 (Spyder)",
   "language": "python3",
   "name": "python3"
  },
  "language_info": {
   "codemirror_mode": {
    "name": "ipython",
    "version": 3
   },
   "file_extension": ".py",
   "mimetype": "text/x-python",
   "name": "python",
   "nbconvert_exporter": "python",
   "pygments_lexer": "ipython3",
   "version": "3.7.6"
  }
 },
 "nbformat": 4,
 "nbformat_minor": 4
}
